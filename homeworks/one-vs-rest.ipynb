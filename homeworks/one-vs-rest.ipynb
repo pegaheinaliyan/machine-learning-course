{
 "cells": [
  {
   "cell_type": "markdown",
   "metadata": {},
   "source": [
    "# Homework #3.2: One vs. Rest\n",
    "\n",
    "This homework is about multinomial classification using OVR technique. Do the following:\n",
    "\n",
    "1. Get iris dataset from `sklearn` using `sklearn.datasets.load_iris()`.\n",
    "2. There are 3 classes (labels): 0, 1 and 2. Peek class 0 and convert all of the zeros in $ y $ vector to one. Convert the rest labels (1s and 2s) to zero.\n",
    "3. Create a `LogisticRegression` model and fit it on $ X $ and the new $ y $. Get predictions (the probabilities) from the model with `.predict_proba()` function.\n",
    "4. Do steps 2 and 3 once again for class 1 and once for class 2.\n",
    "5. Now you have 3 probabilities: one for class 0, one for 1 and one for 2. The real class for each data item is the maximum probability among its 3 probability. For example if data item number 5 has 0.1 probability for class 0, 0.7 for class 1 and 0.4 for class 2, its true class is 1.\n",
    "6. Draw a 2D plot using `matplotlib` to show that the OVR classification works well.\n",
    "\n",
    "For more information:  \n",
    "[scikit-learn example about OVR](http://scikit-learn.org/stable/auto_examples/linear_model/plot_logistic_multinomial.html)\n",
    "(Note: in this example, it has used `LogisticRegression` once for OVR but you should use it 3 times)\n",
    "\n",
    "[OVR - Wikipedia](https://en.wikipedia.org/wiki/Multiclass_classification#One-vs.-rest)\n",
    "\n",
    "[Coursera Machine Learning Course - Andrew Ng](https://www.coursera.org/learn/machine-learning/lecture/68Pol/multiclass-classification-one-vs-all)\n",
    "\n",
    "Good luck!"
   ]
  }
 ],
 "metadata": {
  "kernelspec": {
   "display_name": "Python 3",
   "language": "python",
   "name": "python3"
  },
  "language_info": {
   "codemirror_mode": {
    "name": "ipython",
    "version": 3
   },
   "file_extension": ".py",
   "mimetype": "text/x-python",
   "name": "python",
   "nbconvert_exporter": "python",
   "pygments_lexer": "ipython3",
   "version": "3.5.2"
  }
 },
 "nbformat": 4,
 "nbformat_minor": 2
}
