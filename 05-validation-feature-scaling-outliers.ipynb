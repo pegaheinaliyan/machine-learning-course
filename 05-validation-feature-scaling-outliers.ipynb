{
 "cells": [
  {
   "cell_type": "markdown",
   "metadata": {},
   "source": [
    "## Bias vs. Variance\n",
    "\n"
   ]
  },
  {
   "cell_type": "markdown",
   "metadata": {},
   "source": [
    "* We need to distinguish whether bias or variance is the problem contributing to bad predictions.\n",
    "* High bias is underfitting and high variance is overfitting. Ideally, we need to find a golden mean between these two.\n"
   ]
  },
  {
   "cell_type": "markdown",
   "metadata": {},
   "source": [
    "The training error will tend to decrease as we increase the degree d of the polynomial.\n",
    "\n"
   ]
  },
  {
   "cell_type": "markdown",
   "metadata": {},
   "source": [
    "At the same time, the cross validation error will tend to decrease as we increase d up to a point, and then it will increase as d is increased, forming a convex curve.\n",
    "\n"
   ]
  },
  {
   "cell_type": "markdown",
   "metadata": {},
   "source": [
    "**High bias (underfitting): both $J_{train}(\\theta)$ and $J_{cv}(\\theta)$ will be high. Also, $J_{cv}(\\theta)$≈$J_{train}(\\theta)$.**\n",
    "\n",
    "**High variance (overfitting): $J_{train}(\\theta)$ will be low and $J_{cv}(\\theta)$ will be much greater than $J_{train}(\\theta)$.**\n",
    "\n"
   ]
  },
  {
   "cell_type": "markdown",
   "metadata": {},
   "source": [
    "![](images/bias_var/unov1.jpg)\n",
    "\n"
   ]
  },
  {
   "cell_type": "markdown",
   "metadata": {
    "collapsed": true
   },
   "source": [
    "![](images/bias_var/model_comp.png) \n"
   ]
  },
  {
   "cell_type": "markdown",
   "metadata": {},
   "source": [
    "## Model Selection and Train/Validation/Test Sets\n"
   ]
  },
  {
   "cell_type": "markdown",
   "metadata": {},
   "source": [
    "\n",
    "Just because a learning algorithm fits a training set well, that does not mean it is a good hypothesis. It could over fit and as a result your predictions on the test set would be poor. The error of your hypothesis as measured on the data set with which you trained the parameters will be lower than the error on any other data set.\n",
    "\n",
    "Given many models with different polynomial degrees, we can use a systematic approach to identify the 'best' function. In order to choose the model of your hypothesis, you can test each degree of polynomial and look at the error result.\n",
    "\n",
    "\n"
   ]
  },
  {
   "cell_type": "markdown",
   "metadata": {},
   "source": [
    "One way to break down our dataset into the three sets is:\n",
    "\n",
    "**Training set: 60%** <br>\n",
    "**Cross validation set: 20% **<br>\n",
    "**Test set: 20%** <br>\n"
   ]
  },
  {
   "cell_type": "markdown",
   "metadata": {},
   "source": [
    "##  Regularization"
   ]
  },
  {
   "cell_type": "markdown",
   "metadata": {},
   "source": [
    "**Penalize** and make some of the **θ** parameters **really small**\n",
    "<br> here θ3 and θ4"
   ]
  },
  {
   "cell_type": "markdown",
   "metadata": {},
   "source": [
    "\n",
    "$\\begin{equation}\\begin{split}\\min_\\theta\\frac{1}{2m}\\sum_{i=1}^{\\infty}(h_{\\theta}(x^(i)-y^(i))) +( 1000 *\\theta_3^2 + 1000 * \\theta_4^2)\\end{split}\\end{equation}$"
   ]
  },
  {
   "cell_type": "markdown",
   "metadata": {},
   "source": [
    "* The addition in blue is a modification of our cost function to help penalize θ3 and θ4 <br>\n",
    " * So here we end up with $\\theta_3$ and $\\theta_4$ being close to zero (because the constants are massive)\n",
    "  * So we're basically left with a quadratic function\n"
   ]
  },
  {
   "cell_type": "markdown",
   "metadata": {},
   "source": [
    "![](images/bias_var/regu2.png)"
   ]
  },
  {
   "cell_type": "markdown",
   "metadata": {},
   "source": [
    "$\\theta_0 + \\theta_1x + \\theta_2x^2 +\\underline {\\theta_3x^3} + \\underline{\\theta_4x^4}$"
   ]
  },
  {
   "cell_type": "markdown",
   "metadata": {},
   "source": [
    "* In this example, we penalized two of the parameter values\n",
    "   * More generally, regularization is as follows"
   ]
  },
  {
   "cell_type": "markdown",
   "metadata": {},
   "source": [
    "#### Cost function"
   ]
  },
  {
   "cell_type": "markdown",
   "metadata": {},
   "source": [
    "$\\begin{equation}\\begin{split}J(\\theta) = \\frac{1}{2m}[ \\sum_{i=1}^{m} (h_\\theta(x^{(i)})-y^{(i)})^2 + \\lambda \\sum_{i=1}^{n}\\theta_j^2]\\end{split}\\end{equation}$"
   ]
  },
  {
   "cell_type": "markdown",
   "metadata": {},
   "source": [
    "* warning: update $\\theta_0$ like previous because  for regularization we don't penalize θ0 so treat it slightly differently"
   ]
  },
  {
   "cell_type": "markdown",
   "metadata": {},
   "source": [
    "$\\begin{equation}\\begin{split}\\theta_j := \\theta_j - \\alpha [\\frac{1}{m}\\sum_{i=1}^{m}(h_\\theta(x^{(i)})-y^{(i)})x_j^{(i)} + \\frac{\\lambda}{m}\\theta_j]\\\\{(j=1,2,3,..,n)}\\end{split}\\end{equation}$"
   ]
  },
  {
   "cell_type": "markdown",
   "metadata": {},
   "source": [
    "![](images/bias_var/lambda.jpg)"
   ]
  },
  {
   "cell_type": "markdown",
   "metadata": {},
   "source": [
    "## k-fold cross-validation"
   ]
  },
  {
   "cell_type": "markdown",
   "metadata": {},
   "source": [
    "In k-fold cross-validation, the original sample is randomly partitioned into k equal sized subsamples.Of the k subsamples, a single subsample is retained as the validation data for testing the model, and the remaining k − 1 subsamples are used as training data. The cross-validation process is then repeated k times (the folds), with each of the k subsamples used exactly once as the validation data. The k results from the folds can then be averaged to produce a single estimation. The advantage of this method over repeated random sub-sampling (see below) is that all observations are used for both training and validation, and each observation is used for validation exactly once."
   ]
  },
  {
   "cell_type": "markdown",
   "metadata": {},
   "source": [
    "![](images/bias_var/k-fold.png)"
   ]
  },
  {
   "cell_type": "markdown",
   "metadata": {},
   "source": [
    "## Debugging learning algorithms"
   ]
  },
  {
   "cell_type": "markdown",
   "metadata": {},
   "source": [
    "* **Getting more training examples: Fixes high variance**\n",
    "* **Trying smaller sets of features: Fixes high variance**\n",
    "* **Adding features: Fixes high bias**\n",
    "* **Adding polynomial features: Fixes high bias**\n",
    "* **Decreasing λ: Fixes high bias**\n",
    "* **Increasing λ: Fixes high variance.**\n"
   ]
  },
  {
   "cell_type": "markdown",
   "metadata": {},
   "source": [
    "## Feature Scaling"
   ]
  },
  {
   "cell_type": "markdown",
   "metadata": {},
   "source": [
    "#### Min-Max Normalization\n",
    "\n",
    "$$ x' = \\frac{x - min(x)}{max(x) - min(x)} $$"
   ]
  },
  {
   "cell_type": "code",
   "execution_count": 3,
   "metadata": {},
   "outputs": [
    {
     "name": "stdout",
     "output_type": "stream",
     "text": [
      "MinMaxScaler(copy=True, feature_range=(0, 1))\n",
      "\n",
      "[  1.  18.]\n",
      "\n",
      "[[ 0.    0.  ]\n",
      " [ 0.25  0.25]\n",
      " [ 0.5   0.5 ]\n",
      " [ 1.    1.  ]]\n",
      "\n",
      "[[ 1.5  0. ]]\n"
     ]
    }
   ],
   "source": [
    "from sklearn.preprocessing import MinMaxScaler\n",
    "\n",
    "data = [[-1, 2], [-0.5, 6], [0, 10], [1, 18]]\n",
    "scaler = MinMaxScaler()\n",
    "print(scaler.fit(data), end='\\n\\n')\n",
    "\n",
    "print(scaler.data_max_, end='\\n\\n')\n",
    "\n",
    "print(scaler.transform(data), end='\\n\\n')\n",
    "\n",
    "print(scaler.transform([[2, 2]]))"
   ]
  },
  {
   "cell_type": "markdown",
   "metadata": {},
   "source": [
    "#### Standardization\n",
    "\n",
    "$$ x' = \\frac{x - \\bar{x}}{\\sigma} $$\n",
    "\n",
    "where $ \\bar{x} $ is the [mean](https://en.wikipedia.org/wiki/Mean) and $ \\sigma $ is the [standard deviation](https://en.wikipedia.org/wiki/Standard_deviation)."
   ]
  },
  {
   "cell_type": "code",
   "execution_count": 5,
   "metadata": {},
   "outputs": [
    {
     "name": "stdout",
     "output_type": "stream",
     "text": [
      "StandardScaler(copy=True, with_mean=True, with_std=True)\n",
      "\n",
      "[ 0.5  0.5]\n",
      "\n",
      "[[-1. -1.]\n",
      " [-1. -1.]\n",
      " [ 1.  1.]\n",
      " [ 1.  1.]]\n",
      "\n",
      "[[ 3.  3.]]\n"
     ]
    }
   ],
   "source": [
    "from sklearn.preprocessing import StandardScaler\n",
    "\n",
    "data = [[0, 0], [0, 0], [1, 1], [1, 1]]\n",
    "scaler = StandardScaler()\n",
    "print(scaler.fit(data), end='\\n\\n')\n",
    "\n",
    "print(scaler.mean_, end='\\n\\n')\n",
    "\n",
    "print(scaler.transform(data), end='\\n\\n')\n",
    "\n",
    "print(scaler.transform([[2, 2]]))"
   ]
  },
  {
   "cell_type": "markdown",
   "metadata": {},
   "source": [
    "#### Normalization\n",
    "\n",
    "$$ x' = \\frac{x}{\\left\\lVert x \\right\\rVert} $$\n",
    "\n",
    "where $ \\left\\lVert x \\right\\rVert $ is the [norm](https://en.wikipedia.org/wiki/Norm_(mathematics%29) of vector $ x $ (euclidean distance in most cases)."
   ]
  },
  {
   "cell_type": "code",
   "execution_count": 21,
   "metadata": {},
   "outputs": [
    {
     "name": "stdout",
     "output_type": "stream",
     "text": [
      "Normalizer(copy=True, norm='l2')\n",
      "\n",
      "[[-0.4472136   0.89442719]\n",
      " [-0.08304548  0.99654576]\n",
      " [ 0.          1.        ]\n",
      " [ 0.05547002  0.99846035]]\n",
      "\n",
      "[ 1.  1.  1.  1.]\n"
     ]
    }
   ],
   "source": [
    "import numpy as np\n",
    "from sklearn.preprocessing import Normalizer\n",
    "\n",
    "data = [[-1, 2], [-0.5, 6], [0, 10], [1, 18]]\n",
    "normalizer = Normalizer()\n",
    "print(normalizer.fit(data), end='\\n\\n')\n",
    "\n",
    "print(normalizer.transform(data), end='\\n\\n')\n",
    "print(np.linalg.norm(normalizer.transform(data), axis=1))"
   ]
  },
  {
   "cell_type": "markdown",
   "metadata": {},
   "source": [
    "On the importance of feature scaling: [sklearn example](http://scikit-learn.org/stable/auto_examples/preprocessing/plot_scaling_importance.html)"
   ]
  },
  {
   "cell_type": "markdown",
   "metadata": {},
   "source": [
    "## Outliers\n",
    "\n",
    "<img src=\"images/bias_var/outliers_effect.png\" />"
   ]
  }
 ],
 "metadata": {
  "kernelspec": {
   "display_name": "Python 3",
   "language": "python",
   "name": "python3"
  },
  "language_info": {
   "codemirror_mode": {
    "name": "ipython",
    "version": 3
   },
   "file_extension": ".py",
   "mimetype": "text/x-python",
   "name": "python",
   "nbconvert_exporter": "python",
   "pygments_lexer": "ipython3",
   "version": "3.5.2"
  }
 },
 "nbformat": 4,
 "nbformat_minor": 2
}
